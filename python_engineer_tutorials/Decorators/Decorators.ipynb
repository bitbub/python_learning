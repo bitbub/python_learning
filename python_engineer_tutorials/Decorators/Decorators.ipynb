{
 "cells": [
  {
   "cell_type": "markdown",
   "metadata": {},
   "source": [
    "### Decorator\n",
    "\n",
    "- In python, a Decorator is a function that takes another function as an argument and extends it's behavior without explicitly changing/modifying original function. \n",
    "- There are two types: \n",
    "  - 1) Function Decorators\n",
    "  - 2) Class Decorators"
   ]
  },
  {
   "cell_type": "markdown",
   "metadata": {},
   "source": [
    "### Function Decorators\n",
    "\n",
    "- Note: In python, functions are treated as first class objects, which means functions can be passed as an arguments to other functions or can be return from other functions. \n",
    "- Using this 'functions as first class objects', decorator take function as an input arguments wraps the input function in another function(so called 'wrapper function') and returns wrapper function. This allows extention in the behavior of original input function.\n"
   ]
  },
  {
   "cell_type": "code",
   "execution_count": 44,
   "metadata": {},
   "outputs": [],
   "source": [
    "### 1) this is original function (with no arguments passed).\n",
    "def my_function():\n",
    "    print('This is my orignal function !!')"
   ]
  },
  {
   "cell_type": "code",
   "execution_count": 45,
   "metadata": {},
   "outputs": [],
   "source": [
    "### this is decorator function with warpper function inside and takes another 'func' as an argument.\n",
    "def my_decorator_function(func): #  a decorator function with original function as an argument.\n",
    "    def wrapper():               # a warrper function\n",
    "        print('function starts.')  # extended/added behavior to original fuction.\n",
    "        func()                   # orignal function (taken as an argument.)\n",
    "        print('function ends.')  # extended/added behavior to original fuction.\n",
    "    return wrapper               # return warpper function."
   ]
  },
  {
   "cell_type": "code",
   "execution_count": 46,
   "metadata": {},
   "outputs": [
    {
     "name": "stdout",
     "output_type": "stream",
     "text": [
      "This is my orignal function !!\n"
     ]
    }
   ],
   "source": [
    "### call without decorator.\n",
    "a = my_function()\n",
    "a"
   ]
  },
  {
   "cell_type": "code",
   "execution_count": 47,
   "metadata": {},
   "outputs": [
    {
     "name": "stdout",
     "output_type": "stream",
     "text": [
      "function starts.\n",
      "This is my orignal function !!\n",
      "function ends.\n"
     ]
    }
   ],
   "source": [
    "### call with decorator function.\n",
    "b = my_decorator_function(my_function)\n",
    "b()\n"
   ]
  },
  {
   "cell_type": "code",
   "execution_count": 48,
   "metadata": {},
   "outputs": [
    {
     "name": "stdout",
     "output_type": "stream",
     "text": [
      "function starts.\n",
      "This is my original function 1 !!\n",
      "function ends.\n"
     ]
    }
   ],
   "source": [
    "### call with decoretor symbol '@'\n",
    "\n",
    "@my_decorator_function\n",
    "def my_function_1():\n",
    "    print('This is my original function 1 !!')\n",
    "\n",
    "c = my_function_1()\n",
    "c"
   ]
  },
  {
   "cell_type": "code",
   "execution_count": 49,
   "metadata": {},
   "outputs": [],
   "source": [
    "## 2) function with argument passed\n",
    "def add10(x):\n",
    "    return x + 10"
   ]
  },
  {
   "cell_type": "code",
   "execution_count": 50,
   "metadata": {},
   "outputs": [],
   "source": [
    "## decorator with arguemts\n",
    "def decorator_with_arguments(func): # decorator function with original function as an argument.\n",
    "    def wrapper(*args, **kwargs):   # a warrper function with arguments.\n",
    "        print('function starts.')\n",
    "        func(*args, **kwargs)\n",
    "        print('function ends.')\n",
    "    return wrapper"
   ]
  },
  {
   "cell_type": "code",
   "execution_count": 51,
   "metadata": {},
   "outputs": [],
   "source": [
    "@decorator_with_arguments\n",
    "## function with argument\n",
    "def add10(x):\n",
    "    return x + 10"
   ]
  },
  {
   "cell_type": "code",
   "execution_count": 52,
   "metadata": {},
   "outputs": [
    {
     "name": "stdout",
     "output_type": "stream",
     "text": [
      "function starts.\n",
      "function ends.\n",
      "None\n"
     ]
    }
   ],
   "source": [
    "results = add10(5)\n",
    "print(results)"
   ]
  },
  {
   "cell_type": "code",
   "execution_count": 53,
   "metadata": {},
   "outputs": [],
   "source": [
    "## 3) function with argument passed and return the function results.\n",
    "def decorator_with_arguments_and_return(func):\n",
    "    def wrapper(*args, **kwargs):\n",
    "        print('function starts.')\n",
    "        results = func(*args, **kwargs)\n",
    "        print('function ends.')\n",
    "        return results\n",
    "    return wrapper"
   ]
  },
  {
   "cell_type": "code",
   "execution_count": 54,
   "metadata": {},
   "outputs": [],
   "source": [
    "@decorator_with_arguments_and_return\n",
    "def add_5(x):\n",
    "    return x + 5"
   ]
  },
  {
   "cell_type": "code",
   "execution_count": 55,
   "metadata": {},
   "outputs": [
    {
     "name": "stdout",
     "output_type": "stream",
     "text": [
      "function starts.\n",
      "function ends.\n"
     ]
    },
    {
     "data": {
      "text/plain": [
       "15"
      ]
     },
     "execution_count": 55,
     "metadata": {},
     "output_type": "execute_result"
    }
   ],
   "source": [
    "res = add_5(10)\n",
    "res"
   ]
  },
  {
   "cell_type": "code",
   "execution_count": 57,
   "metadata": {},
   "outputs": [],
   "source": [
    "### 4) decorator tamplate\n",
    "### Keep original functions identity by using \"functools\" modules\n",
    "import functools\n",
    "\n",
    "def my_decorator_function_template(func):\n",
    "    @functools.wraps(func)\n",
    "    def wrapper_function(*args, **kwargs):\n",
    "        #do something ...\n",
    "        results = func(*args, **kwargs)\n",
    "        #do something\n",
    "        return results\n",
    "    return wrapper_function\n",
    "\n",
    "@my_decorator_function_template\n",
    "def orignal_function(*arg, **kwargs):\n",
    "    ## do something...\n",
    "    return 'how are you? Nice to meet you'\n"
   ]
  }
 ],
 "metadata": {
  "kernelspec": {
   "display_name": "py312",
   "language": "python",
   "name": "python3"
  },
  "language_info": {
   "codemirror_mode": {
    "name": "ipython",
    "version": 3
   },
   "file_extension": ".py",
   "mimetype": "text/x-python",
   "name": "python",
   "nbconvert_exporter": "python",
   "pygments_lexer": "ipython3",
   "version": "3.12.0"
  }
 },
 "nbformat": 4,
 "nbformat_minor": 2
}
