{
 "cells": [
  {
   "cell_type": "markdown",
   "metadata": {},
   "source": [
    "### Searching and Reading Local Files"
   ]
  },
  {
   "cell_type": "code",
   "execution_count": 17,
   "metadata": {},
   "outputs": [],
   "source": [
    "### 1) Crawling and searching directories\n",
    "\n",
    "path ='C:\\\\Users\\\\bonny\\\\OneDrive\\\\Documents\\\\books\\\\2023\\\\others'\n",
    "\n",
    "import os\n"
   ]
  },
  {
   "cell_type": "code",
   "execution_count": null,
   "metadata": {},
   "outputs": [],
   "source": [
    "## output files nmaes\n",
    "for root, dirs, files in os.walk(path):\n",
    "    for fi in files:\n",
    "        print(fi)"
   ]
  },
  {
   "cell_type": "code",
   "execution_count": 18,
   "metadata": {},
   "outputs": [
    {
     "name": "stdout",
     "output_type": "stream",
     "text": [
      "C:\\Users\\bonny\\OneDrive\\Documents\\books\\2023\\others\\Carl Jung - Psychology of the Unconscious (2021) - libgen.li.pdf\n",
      "C:\\Users\\bonny\\OneDrive\\Documents\\books\\2023\\others\\David Z Albert - Quantum Mechanics and Experience (1994) - libgen.li.pdf\n",
      "C:\\Users\\bonny\\OneDrive\\Documents\\books\\2023\\others\\J. S. Bell, Alain Aspect - Speakable and Unspeakable in Quantum Mechanics_ Collected Papers on Quantum Philosophy (2004, Cambridge University Press) - libgen.li.pdf\n",
      "C:\\Users\\bonny\\OneDrive\\Documents\\books\\2023\\others\\M. Hiriyanna - Outlines of Indian Philosophy (1993, Motilal Banarsidass) - libgen.li.pdf\n",
      "C:\\Users\\bonny\\OneDrive\\Documents\\books\\2023\\others\\Michael Muthukrishna - A Theory of Everyone_ The New Science of Who We Are, How We Got Here, and Where We’re Going-The MIT Press (2023).epub\n",
      "C:\\Users\\bonny\\OneDrive\\Documents\\books\\2023\\others\\Monika Halan - Let’s Talk Money_ You’ve Worked Hard for It, Now Make It Work for You (2018, HarperBusiness) - libgen.li.pdf\n",
      "C:\\Users\\bonny\\OneDrive\\Documents\\books\\2023\\others\\Nassim Nicholas Taleb - Incerto_ Fooled by Randomness, The Black Swan, The Bed of Procrustes, Antifragile, Skin in the Game (2021, Random House Publishing Group) - libgen.li.epub\n",
      "C:\\Users\\bonny\\OneDrive\\Documents\\books\\2023\\others\\Robert Greene - The 48 Laws Of Power (2000, Viking Penguin Group) - libgen.li.pdf\n",
      "C:\\Users\\bonny\\OneDrive\\Documents\\books\\2023\\others\\Robert M. Sapolsky - Determined_ A Science of Life without Free Will (2023).pdf\n",
      "C:\\Users\\bonny\\OneDrive\\Documents\\books\\2023\\others\\Satishchandra Chatterjee, Dhirendramohan Datta - An Introduction to Indian Philosophy (2012, Rupa Publications) - libgen.li.pdf\n",
      "C:\\Users\\bonny\\OneDrive\\Documents\\books\\2023\\others\\[Great Discoveries] Rebecca Goldstein - Incompleteness - The Proof and Paradox of Kurt Godel (2005, W. W. Norton & Company) - libgen.li.pdf\n",
      "C:\\Users\\bonny\\OneDrive\\Documents\\books\\2023\\others\\[Princeton foundations of contemporary philosophy.] Tim Maudlin - Philosophy of physics _ quantum theory (2019) - libgen.li-1.pdf\n",
      "C:\\Users\\bonny\\OneDrive\\Documents\\books\\2023\\others\\[Undergraduate Lecture Notes in Physics] Travis Norsen - Foundations of Quantum Mechanics_ An Exploration of the Physical Meaning of Quantum Theory (2017, Springer) - libgen.li.pdf\n"
     ]
    }
   ],
   "source": [
    "## output fill file path.\n",
    "for root, dirs, files in os.walk(path):\n",
    "    for fi in files:\n",
    "        full_path = os.path.join(root, fi)\n",
    "        print(full_path)\n",
    "\n",
    "## usr 'abspath' method\n",
    "## output files\n",
    "for root, dirs, files in os.walk(path):\n",
    "    for fi in files:\n",
    "        print(os.path.abspath(fi))"
   ]
  },
  {
   "cell_type": "code",
   "execution_count": 21,
   "metadata": {},
   "outputs": [
    {
     "name": "stdout",
     "output_type": "stream",
     "text": [
      "seven_sins.txt\n",
      "zen_of_python.txt\n"
     ]
    }
   ],
   "source": [
    "## filter file using extension\n",
    "for root, dirs, files in os.walk(path):\n",
    "    for fi in files:\n",
    "        if fi.endswith('.txt'):\n",
    "            print(fi)"
   ]
  },
  {
   "cell_type": "code",
   "execution_count": 34,
   "metadata": {},
   "outputs": [
    {
     "name": "stdout",
     "output_type": "stream",
     "text": [
      "Wealth without work.\n",
      "Pleasure without conscience.\n",
      "Knowledge without character.\n",
      "Commerce without morality.\n",
      "Science without humanity.\n",
      "Worship without sacrifice,\n",
      "Politics without principles.\n"
     ]
    }
   ],
   "source": [
    "## 1) open and read each line\n",
    "\n",
    "file_path = path ='C:\\\\Users\\\\bonny\\\\OneDrive\\\\Documents\\\\books\\\\2023\\\\others\\\\seven_sins.txt'\n",
    "\n",
    "with open(file_path, 'r') as file:\n",
    "    lines = file.readlines()\n",
    "    for line in lines:\n",
    "        print(line.strip())"
   ]
  },
  {
   "cell_type": "code",
   "execution_count": null,
   "metadata": {},
   "outputs": [],
   "source": []
  }
 ],
 "metadata": {
  "kernelspec": {
   "display_name": "py312",
   "language": "python",
   "name": "python3"
  },
  "language_info": {
   "codemirror_mode": {
    "name": "ipython",
    "version": 3
   },
   "file_extension": ".py",
   "mimetype": "text/x-python",
   "name": "python",
   "nbconvert_exporter": "python",
   "pygments_lexer": "ipython3",
   "version": "3.12.0"
  }
 },
 "nbformat": 4,
 "nbformat_minor": 2
}
